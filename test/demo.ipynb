{
 "cells": [
  {
   "cell_type": "code",
   "execution_count": 1,
   "metadata": {},
   "outputs": [],
   "source": [
    "from SpanningTest import Investment\n",
    "\n",
    "working = Investment()"
   ]
  },
  {
   "cell_type": "code",
   "execution_count": 2,
   "metadata": {},
   "outputs": [],
   "source": [
    "import pandas as pd\n",
    "\n",
    "original_assets = pd.read_csv('original_assets.csv', index_col='Date', parse_dates=['Date'])\n",
    "new_assets = pd.read_csv('new_assets.csv', index_col='Date', parse_dates=['Date'])"
   ]
  },
  {
   "cell_type": "code",
   "execution_count": 3,
   "metadata": {},
   "outputs": [
    {
     "data": {
      "text/html": [
       "<div>\n",
       "<style scoped>\n",
       "    .dataframe tbody tr th:only-of-type {\n",
       "        vertical-align: middle;\n",
       "    }\n",
       "\n",
       "    .dataframe tbody tr th {\n",
       "        vertical-align: top;\n",
       "    }\n",
       "\n",
       "    .dataframe thead th {\n",
       "        text-align: right;\n",
       "    }\n",
       "</style>\n",
       "<table border=\"1\" class=\"dataframe\">\n",
       "  <thead>\n",
       "    <tr style=\"text-align: right;\">\n",
       "      <th></th>\n",
       "      <th>1402.TW</th>\n",
       "      <th>1409.TW</th>\n",
       "      <th>1423.TW</th>\n",
       "      <th>1440.TW</th>\n",
       "      <th>1476.TW</th>\n",
       "      <th>1460.TW</th>\n",
       "      <th>1477.TW</th>\n",
       "      <th>4414.TW</th>\n",
       "    </tr>\n",
       "    <tr>\n",
       "      <th>Date</th>\n",
       "      <th></th>\n",
       "      <th></th>\n",
       "      <th></th>\n",
       "      <th></th>\n",
       "      <th></th>\n",
       "      <th></th>\n",
       "      <th></th>\n",
       "      <th></th>\n",
       "    </tr>\n",
       "  </thead>\n",
       "  <tbody>\n",
       "    <tr>\n",
       "      <th>2018-01-31</th>\n",
       "      <td>26.05</td>\n",
       "      <td>9.74</td>\n",
       "      <td>8.55</td>\n",
       "      <td>13.80</td>\n",
       "      <td>292.5</td>\n",
       "      <td>14.45</td>\n",
       "      <td>132.5</td>\n",
       "      <td>18.60</td>\n",
       "    </tr>\n",
       "    <tr>\n",
       "      <th>2018-02-27</th>\n",
       "      <td>25.95</td>\n",
       "      <td>9.43</td>\n",
       "      <td>8.35</td>\n",
       "      <td>13.40</td>\n",
       "      <td>312.0</td>\n",
       "      <td>14.15</td>\n",
       "      <td>138.0</td>\n",
       "      <td>18.15</td>\n",
       "    </tr>\n",
       "    <tr>\n",
       "      <th>2018-03-31</th>\n",
       "      <td>26.45</td>\n",
       "      <td>9.67</td>\n",
       "      <td>9.32</td>\n",
       "      <td>13.30</td>\n",
       "      <td>342.0</td>\n",
       "      <td>13.30</td>\n",
       "      <td>137.5</td>\n",
       "      <td>14.90</td>\n",
       "    </tr>\n",
       "    <tr>\n",
       "      <th>2018-04-30</th>\n",
       "      <td>28.40</td>\n",
       "      <td>10.20</td>\n",
       "      <td>10.65</td>\n",
       "      <td>13.15</td>\n",
       "      <td>359.5</td>\n",
       "      <td>12.30</td>\n",
       "      <td>143.0</td>\n",
       "      <td>15.10</td>\n",
       "    </tr>\n",
       "    <tr>\n",
       "      <th>2018-05-31</th>\n",
       "      <td>28.55</td>\n",
       "      <td>10.90</td>\n",
       "      <td>10.10</td>\n",
       "      <td>15.20</td>\n",
       "      <td>366.0</td>\n",
       "      <td>13.05</td>\n",
       "      <td>135.5</td>\n",
       "      <td>15.10</td>\n",
       "    </tr>\n",
       "  </tbody>\n",
       "</table>\n",
       "</div>"
      ],
      "text/plain": [
       "            1402.TW  1409.TW  1423.TW  1440.TW  1476.TW  1460.TW  1477.TW  \\\n",
       "Date                                                                        \n",
       "2018-01-31    26.05     9.74     8.55    13.80    292.5    14.45    132.5   \n",
       "2018-02-27    25.95     9.43     8.35    13.40    312.0    14.15    138.0   \n",
       "2018-03-31    26.45     9.67     9.32    13.30    342.0    13.30    137.5   \n",
       "2018-04-30    28.40    10.20    10.65    13.15    359.5    12.30    143.0   \n",
       "2018-05-31    28.55    10.90    10.10    15.20    366.0    13.05    135.5   \n",
       "\n",
       "            4414.TW  \n",
       "Date                 \n",
       "2018-01-31    18.60  \n",
       "2018-02-27    18.15  \n",
       "2018-03-31    14.90  \n",
       "2018-04-30    15.10  \n",
       "2018-05-31    15.10  "
      ]
     },
     "execution_count": 3,
     "metadata": {},
     "output_type": "execute_result"
    }
   ],
   "source": [
    "original_assets.head()"
   ]
  },
  {
   "cell_type": "code",
   "execution_count": 4,
   "metadata": {},
   "outputs": [
    {
     "data": {
      "text/html": [
       "<div>\n",
       "<style scoped>\n",
       "    .dataframe tbody tr th:only-of-type {\n",
       "        vertical-align: middle;\n",
       "    }\n",
       "\n",
       "    .dataframe tbody tr th {\n",
       "        vertical-align: top;\n",
       "    }\n",
       "\n",
       "    .dataframe thead th {\n",
       "        text-align: right;\n",
       "    }\n",
       "</style>\n",
       "<table border=\"1\" class=\"dataframe\">\n",
       "  <thead>\n",
       "    <tr style=\"text-align: right;\">\n",
       "      <th></th>\n",
       "      <th>2330.TW</th>\n",
       "      <th>2454.TW</th>\n",
       "    </tr>\n",
       "    <tr>\n",
       "      <th>Date</th>\n",
       "      <th></th>\n",
       "      <th></th>\n",
       "    </tr>\n",
       "  </thead>\n",
       "  <tbody>\n",
       "    <tr>\n",
       "      <th>2018-01-31</th>\n",
       "      <td>255.0</td>\n",
       "      <td>299.0</td>\n",
       "    </tr>\n",
       "    <tr>\n",
       "      <th>2018-02-27</th>\n",
       "      <td>246.0</td>\n",
       "      <td>301.0</td>\n",
       "    </tr>\n",
       "    <tr>\n",
       "      <th>2018-03-31</th>\n",
       "      <td>247.5</td>\n",
       "      <td>340.5</td>\n",
       "    </tr>\n",
       "    <tr>\n",
       "      <th>2018-04-30</th>\n",
       "      <td>227.0</td>\n",
       "      <td>340.0</td>\n",
       "    </tr>\n",
       "    <tr>\n",
       "      <th>2018-05-31</th>\n",
       "      <td>224.0</td>\n",
       "      <td>311.5</td>\n",
       "    </tr>\n",
       "  </tbody>\n",
       "</table>\n",
       "</div>"
      ],
      "text/plain": [
       "            2330.TW  2454.TW\n",
       "Date                        \n",
       "2018-01-31    255.0    299.0\n",
       "2018-02-27    246.0    301.0\n",
       "2018-03-31    247.5    340.5\n",
       "2018-04-30    227.0    340.0\n",
       "2018-05-31    224.0    311.5"
      ]
     },
     "execution_count": 4,
     "metadata": {},
     "output_type": "execute_result"
    }
   ],
   "source": [
    "new_assets.head()"
   ]
  },
  {
   "cell_type": "code",
   "execution_count": 5,
   "metadata": {},
   "outputs": [
    {
     "name": "stdout",
     "output_type": "stream",
     "text": [
      "+---------+---------+---------+---------+\n",
      "|  F-test |    LR   |    LM   |   Wald  |\n",
      "+---------+---------+---------+---------+\n",
      "|  1.837  |  11.186 |  8.948  |  14.238 |\n",
      "| (0.178) | (0.025) | (0.007) | (0.062) |\n",
      "+---------+---------+---------+---------+\n"
     ]
    },
    {
     "data": {
      "text/plain": [
       "[1.837, 0.178, 11.186, 0.025, 8.948, 0.007, 14.238, 0.062]"
      ]
     },
     "execution_count": 5,
     "metadata": {},
     "output_type": "execute_result"
    }
   ],
   "source": [
    "working.SpanningTest(original_assets, new_assets)"
   ]
  },
  {
   "cell_type": "code",
   "execution_count": 6,
   "metadata": {},
   "outputs": [
    {
     "data": {
      "image/png": "[encoded data removed]",
      "text/plain": [
       "<Figure size 432x324 with 1 Axes>"
      ]
     },
     "metadata": {
      "needs_background": "light"
     },
     "output_type": "display_data"
    }
   ],
   "source": [
    "working.EfficientFrontierComparison(original_assets, new_assets).savefig('res.png', dpi=300)"
   ]
  }
 ],
 "metadata": {
  "kernelspec": {
   "display_name": "Python 3",
   "language": "python",
   "name": "python3"
  },
  "language_info": {
   "codemirror_mode": {
    "name": "ipython",
    "version": 3
   },
   "file_extension": ".py",
   "mimetype": "text/x-python",
   "name": "python",
   "nbconvert_exporter": "python",
   "pygments_lexer": "ipython3",
   "version": "3.7.3"
  }
 },
 "nbformat": 4,
 "nbformat_minor": 4
}
